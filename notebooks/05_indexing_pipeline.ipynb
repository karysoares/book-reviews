{
 "cells": [
  {
   "cell_type": "code",
   "execution_count": null,
   "metadata": {},
   "outputs": [],
   "source": [
    "from langchain.embeddings import HuggingFaceEmbeddings\n",
    "from langchain_core.documents import Document\n",
    "from langchain_chroma import Chroma\n",
    "from sqlalchemy import create_engine\n",
    "from transformers import AutoModel, AutoTokenizer, pipeline\n",
    "import pandas as pd"
   ]
  },
  {
   "cell_type": "code",
   "execution_count": null,
   "metadata": {},
   "outputs": [],
   "source": [
    "engine = create_engine(\"sqlite:////home/karysoares/Documents/book-reviews/notebooks/books.db\")"
   ]
  },
  {
   "cell_type": "code",
   "execution_count": null,
   "metadata": {},
   "outputs": [],
   "source": [
    "books_data = pd.read_sql('SELECT * FROM books_data', engine)"
   ]
  },
  {
   "cell_type": "code",
   "execution_count": null,
   "metadata": {},
   "outputs": [],
   "source": [
    "books_data.head()"
   ]
  },
  {
   "cell_type": "code",
   "execution_count": null,
   "metadata": {},
   "outputs": [],
   "source": [
    "books_data = books_data.fillna('')"
   ]
  },
  {
   "cell_type": "code",
   "execution_count": null,
   "metadata": {},
   "outputs": [],
   "source": [
    "model = \"intfloat/multilingual-e5-large\""
   ]
  },
  {
   "cell_type": "code",
   "execution_count": null,
   "metadata": {},
   "outputs": [],
   "source": [
    "embeddings = HuggingFaceEmbeddings(model_name=model)\n",
    "\n",
    "vector_store = Chroma(\n",
    "    collection_name=\"books\",\n",
    "    embedding_function=embeddings,\n",
    "    persist_directory=\"/home/karysoares/Documents/book-reviews/notebooks\"\n",
    ")\n",
    "\n",
    "print(\"Loaded vector store\")\n",
    "documents = [\n",
    "    Document(page_content=row['description'], metadata=row.to_dict())\n",
    "    for n, row in books_data.iterrows()\n",
    "    if isinstance(row['description'], str)\n",
    "]\n",
    "documents.extend([\n",
    "    Document(page_content=row['Title'], metadata=row.to_dict())\n",
    "    for n, row in books_data.iterrows()\n",
    "    if isinstance(row['Title'], str)\n",
    "])\n",
    "print(\"Finished with formatting docs\")\n",
    "\n",
    "# Vamos rodar em chuncks para facilitar a visualização do progresso\n",
    "\n",
    "chunk_size = 100\n",
    "\n",
    "for i in range(0, len(documents), chunk_size):\n",
    "    print(f\"Adding chunk {i} to vector store\")\n",
    "    vector_store.add_documents(documents[i:i+chunk_size])"
   ]
  },
  {
   "cell_type": "code",
   "execution_count": null,
   "metadata": {},
   "outputs": [],
   "source": []
  }
 ],
 "metadata": {
  "kernelspec": {
   "display_name": ".venv",
   "language": "python",
   "name": "python3"
  },
  "language_info": {
   "codemirror_mode": {
    "name": "ipython",
    "version": 3
   },
   "file_extension": ".py",
   "mimetype": "text/x-python",
   "name": "python",
   "nbconvert_exporter": "python",
   "pygments_lexer": "ipython3",
   "version": "3.10.12"
  }
 },
 "nbformat": 4,
 "nbformat_minor": 2
}
